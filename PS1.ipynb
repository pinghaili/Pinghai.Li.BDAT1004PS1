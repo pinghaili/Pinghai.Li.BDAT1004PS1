{
 "cells": [
  {
   "cell_type": "markdown",
   "id": "22b72c2e",
   "metadata": {},
   "source": [
    "## Question 1"
   ]
  },
  {
   "cell_type": "code",
   "execution_count": null,
   "id": "a524f17f",
   "metadata": {},
   "outputs": [],
   "source": [
    "# What data type is each of the following (evaluate where necessary)?\n",
    "\n",
    "5        \n",
    "# int\n",
    "\n",
    "5.0      \n",
    "# float\n",
    "\n",
    "(5 > 1) == True  \n",
    "# bool\n",
    "\n",
    "'5'      \n",
    "# str\n",
    "\n",
    "5 * 2 == 10   \n",
    "# int\n",
    "\n",
    "'5' * 2 == '55'\n",
    "# str \n",
    "\n",
    "'5' + '2' == '52'\n",
    "# str\n",
    "\n",
    "5 / 2 == 2.5\n",
    "# float\n",
    "\n",
    "5 % 2 == 1\n",
    "# int\n",
    "\n",
    "{5, 2, 1}\n",
    "# set\n",
    "\n",
    "(5 == 3) == False\n",
    "# bool\n",
    "\n",
    "# Pi (the number)\n",
    "import math\n",
    "math.pi\n",
    "# float"
   ]
  },
  {
   "cell_type": "markdown",
   "id": "29ba6948",
   "metadata": {},
   "source": [
    "## Question 2"
   ]
  },
  {
   "cell_type": "code",
   "execution_count": 3,
   "id": "56b8efa8",
   "metadata": {},
   "outputs": [],
   "source": [
    "# a. How many letters are there in 'Supercalifragilisticexpialidocious'?\n",
    "len('Supercalifragilisticexpialidocious') \n",
    "# 34\n",
    "\n",
    "# b.Does 'Supercalifragilisticexpialidocious' contain 'ice' as a substring?\n",
    "'ice' in 'Supercalifragilisticexpialidocious' \n",
    "# True\n",
    "\n",
    "# c. Which of the following words is the longest:Supercalifragilisticexpialidocious, Honorificabilitudinitatibus, orBababadalgharaghtakamminarronnkonn?\n",
    "max('Supercalifragilisticexpialidocious', 'Honorificabilitudinitatibus', 'Bababadalgharaghtakamminarronnkonn')\n",
    "# 'Supercalifragilisticexpialidocious'\n",
    "\n",
    "# d. Which composer comes first in the dictionary: 'Berlioz', 'Borodin', 'Brian','Bartok', 'Bellini', 'Buxtehude', 'Bernstein'. Which one comes last\n",
    "c = ['Berlioz', 'Borodin', 'Brian', 'Bartok', 'Bellini', 'Buxtehude', 'Bernstein']\n",
    "c.sort()\n",
    "first = c[0]\n",
    "last = c[-1]\n",
    "# first 'Bartok', last 'Buxtehude'\n"
   ]
  },
  {
   "cell_type": "markdown",
   "id": "c2a649db",
   "metadata": {},
   "source": [
    "## Question 3"
   ]
  },
  {
   "cell_type": "code",
   "execution_count": null,
   "id": "4990a6f0",
   "metadata": {},
   "outputs": [],
   "source": [
    "# implement function triangleArea(a,b,c)\n",
    "\n",
    "import math\n",
    "\n",
    "def triangleArea(a, b, c): \n",
    "    s = (a + b + c)/2\n",
    "    return math.sqrt(s * (s - a) * (s - b) * (s - c))\n",
    "\n",
    "print(triangleArea(2,2,2))\n",
    "# 1.7320508075688772"
   ]
  },
  {
   "cell_type": "markdown",
   "id": "a570dc39",
   "metadata": {},
   "source": [
    "## Question 4"
   ]
  },
  {
   "cell_type": "code",
   "execution_count": null,
   "id": "88ed4dd0",
   "metadata": {},
   "outputs": [],
   "source": [
    "# Write a program in python to separate odd and even integers in separate arrays\n",
    "\n",
    "len = int(input(\"Input the number of elements to be stored in the array: \"))\n",
    "arr = []\n",
    "for i in range(len):\n",
    "    arr.append(int(input(f\"Element - {i} : \")))\n",
    "\n",
    "even_arr = []\n",
    "odd_arr = []\n",
    "\n",
    "for num in arr:\n",
    "    if num % 2 == 0:\n",
    "        even_arr.append(num)\n",
    "    else:\n",
    "        odd_arr.append(num)\n",
    "\n",
    "print(f\"The Even elements are: \\n{even_arr}\")\n",
    "print(f\"The Odd elements are : \\n{odd_arr}\")"
   ]
  },
  {
   "cell_type": "markdown",
   "id": "6e669313",
   "metadata": {},
   "source": [
    "## Question 5"
   ]
  },
  {
   "cell_type": "code",
   "execution_count": null,
   "id": "92a7f910",
   "metadata": {},
   "outputs": [],
   "source": [
    "# a. Write a function inside(x,y,x1,y1,x2,y2) that returns True or False \n",
    "# depending on whether the point (x,y) lies in the rectangle with lower leftcorner (x1,y1) and upper right corner (x2,y2).\n",
    "\n",
    "def inside(x, y, x1, y1, x2, y2):\n",
    "    return (x >= x1) and (x <= x2) and (y >= y1) and (y <= y2)\n",
    "\n",
    "# b. Use function inside() from part a. to write an expression that tests whether\n",
    "# the point (1,1) lies in both of the following rectangles: one with lower leftcorner (0.3, 0.5) \n",
    "# and upper right corner (1.1, 0.7) and the other with lowerleft corner (0.5, 0.2) and upper right corner (1.1, 2)\n",
    "\n",
    "inside(1, 1, 0.3, 0.5, 1.1, 0.7)\n",
    "# False\n",
    "\n",
    "inside(1, 1, 0.5, 0.2, 1.1, 2)\n",
    "# True"
   ]
  },
  {
   "cell_type": "markdown",
   "id": "06a0ab45",
   "metadata": {},
   "source": [
    "## Question 6"
   ]
  },
  {
   "cell_type": "code",
   "execution_count": 7,
   "id": "dd54f87e",
   "metadata": {},
   "outputs": [],
   "source": [
    "# Write a function pig()\n",
    "\n",
    "def pig(word):\n",
    "    word = word.lower()\n",
    "    vowels = ['a', 'e', 'i', 'o', 'u']\n",
    "\n",
    "    if(word[0] in vowels):\n",
    "        res = word + 'way'\n",
    "    else:\n",
    "        res = word[1::] + word[0] + 'ay'\n",
    "        \n",
    "    return res\n"
   ]
  },
  {
   "cell_type": "markdown",
   "id": "62c814b7",
   "metadata": {},
   "source": [
    "## Question 7"
   ]
  },
  {
   "cell_type": "code",
   "execution_count": 8,
   "id": "3f36d342",
   "metadata": {},
   "outputs": [],
   "source": [
    "# Write a function bldcount() \n",
    "\n",
    "def bldcount(file_path):\n",
    "    list = open(file_path).read().strip().split(' ')\n",
    "\n",
    "    dict = {\n",
    "        \"A\": 0,\n",
    "        \"B\": 0,\n",
    "        \"AB\": 0,\n",
    "        \"O\": 0,\n",
    "        \"OO\": 0,\n",
    "    }\n",
    "\n",
    "    for i in list:\n",
    "        dict[i] += 1\n",
    "\n",
    "    for j in dict:\n",
    "        print(f'There are {dict[j]} patients of blood type {j}.')"
   ]
  },
  {
   "cell_type": "markdown",
   "id": "54e1f739",
   "metadata": {},
   "source": [
    "## Question 8"
   ]
  },
  {
   "cell_type": "code",
   "execution_count": 9,
   "id": "c5b78367",
   "metadata": {},
   "outputs": [],
   "source": [
    "# Write a function curconv()\n",
    "\n",
    "def curconv(cur, amount):\n",
    "    list = open('currencies.txt').read().strip().split('\\n')\n",
    "    dict = {}\n",
    "    for item in list:\n",
    "        curDetail = item.split('\\t')\n",
    "        dict[curDetail[0]] = float(curDetail[1])\n",
    "\n",
    "    return dict[cur] * amount"
   ]
  },
  {
   "cell_type": "markdown",
   "id": "df1daf42",
   "metadata": {},
   "source": [
    "## Question 9"
   ]
  },
  {
   "cell_type": "code",
   "execution_count": null,
   "id": "192a5382",
   "metadata": {},
   "outputs": [],
   "source": [
    "# Trying to add incompatible variables, as in adding 6 + 'a'\n",
    "6 + 'a'\n",
    "# TypeError: unsupported operand type(s) for +: 'int' and 'str'\n",
    "\n",
    "# Referring to the 12th item of a list that has only 10 items\n",
    "[0, 1, 2, 3, 4, 5, 6, 7, 8, 9][12]\n",
    "# IndexError: list index out of range\n",
    "\n",
    "# Using a value that is out of range for a function’s input, such as calling math.sqrt(-1.0)\n",
    "import math\n",
    "math.sqrt(-1.0)\n",
    "# ValueError: math domain error\n",
    "\n",
    "# Using an undeclared variable, such as print(x)when x has not been defined\n",
    "print(x)\n",
    "# NameError: name 'x' is not defined\n",
    "\n",
    "# Trying to open a file that does not exist, such asmistyping the file name or looking in the wrong directory.\n",
    "open('hahaha.txt')\n",
    "# FileNotFoundError: [Errno 2] No such file or directory: 'hahaha.txt'"
   ]
  },
  {
   "cell_type": "markdown",
   "id": "7d081f04",
   "metadata": {},
   "source": [
    "## Question 10"
   ]
  },
  {
   "cell_type": "code",
   "execution_count": 12,
   "id": "80a608a5",
   "metadata": {},
   "outputs": [],
   "source": [
    "# Write a function called frequencies\n",
    "\n",
    "def frequencies(text):\n",
    "    letters = 'abcdefghijklmnopqrstuvwxyz'\n",
    "    \n",
    "    fre = []\n",
    "    for i in range(len(letters)):\n",
    "        fre.append(0)\n",
    "\n",
    "    for j in text:\n",
    "        if j in letters:\n",
    "            fre[letters.index(j)] += 1 \n",
    "\n",
    "    return fre"
   ]
  }
 ],
 "metadata": {
  "kernelspec": {
   "display_name": "Python 3 (ipykernel)",
   "language": "python",
   "name": "python3"
  },
  "language_info": {
   "codemirror_mode": {
    "name": "ipython",
    "version": 3
   },
   "file_extension": ".py",
   "mimetype": "text/x-python",
   "name": "python",
   "nbconvert_exporter": "python",
   "pygments_lexer": "ipython3",
   "version": "3.11.5"
  }
 },
 "nbformat": 4,
 "nbformat_minor": 5
}
